{
 "cells": [
  {
   "cell_type": "code",
   "execution_count": 1,
   "metadata": {},
   "outputs": [],
   "source": [
    "from utils.plot_keypoints import show_keypoints\n",
    "import pandas as pd"
   ]
  },
  {
   "cell_type": "code",
   "execution_count": null,
   "metadata": {},
   "outputs": [],
   "source": [
    "fb_data = pd.read_csv('data/imputed_full_body.csv')"
   ]
  },
  {
   "cell_type": "code",
   "execution_count": 1,
   "metadata": {},
   "outputs": [
    {
     "ename": "NameError",
     "evalue": "name 'show_keypoints' is not defined",
     "output_type": "error",
     "traceback": [
      "\u001b[0;31m---------------------------------------------------------------------------\u001b[0m",
      "\u001b[0;31mNameError\u001b[0m                                 Traceback (most recent call last)",
      "\u001b[1;32m/media/webis/Data Both/OneDrive - FEI/Aulas/Mestrado/Aulas/PEL 309 - Ciência de Dados/Projeto/artificial-talk/teste.ipynb Cell 3\u001b[0m in \u001b[0;36m<cell line: 1>\u001b[0;34m()\u001b[0m\n\u001b[0;32m----> <a href='vscode-notebook-cell:/media/webis/Data%20Both/OneDrive%20-%20FEI/Aulas/Mestrado/Aulas/PEL%20309%20-%20Ci%C3%AAncia%20de%20Dados/Projeto/artificial-talk/teste.ipynb#W0sZmlsZQ%3D%3D?line=0'>1</a>\u001b[0m show_keypoints(fb_data\u001b[39m.\u001b[39msample(\u001b[39m1\u001b[39m))\n",
      "\u001b[0;31mNameError\u001b[0m: name 'show_keypoints' is not defined"
     ]
    }
   ],
   "source": [
    "row = fb_data.sample(1).reshape(17,2)\n",
    "\n",
    "show_keypoints(row)"
   ]
  }
 ],
 "metadata": {
  "kernelspec": {
   "display_name": "pifpaf",
   "language": "python",
   "name": "python3"
  },
  "language_info": {
   "codemirror_mode": {
    "name": "ipython",
    "version": 3
   },
   "file_extension": ".py",
   "mimetype": "text/x-python",
   "name": "python",
   "nbconvert_exporter": "python",
   "pygments_lexer": "ipython3",
   "version": "3.8.16"
  },
  "orig_nbformat": 4
 },
 "nbformat": 4,
 "nbformat_minor": 2
}
